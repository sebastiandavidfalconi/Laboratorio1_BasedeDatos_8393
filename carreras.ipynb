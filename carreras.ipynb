{
  "nbformat": 4,
  "nbformat_minor": 0,
  "metadata": {
    "colab": {
      "provenance": []
    },
    "kernelspec": {
      "name": "python3",
      "display_name": "Python 3"
    },
    "language_info": {
      "name": "python"
    }
  },
  "cells": [
    {
      "cell_type": "code",
      "execution_count": 73,
      "metadata": {
        "colab": {
          "base_uri": "https://localhost:8080/"
        },
        "id": "Ddf4kGCp6A52",
        "outputId": "a89d3763-17fa-476f-a876-275959c51c84"
      },
      "outputs": [
        {
          "output_type": "stream",
          "name": "stdout",
          "text": [
            "Looking in indexes: https://pypi.org/simple, https://us-python.pkg.dev/colab-wheels/public/simple/\n",
            "Requirement already satisfied: Faker in /usr/local/lib/python3.7/dist-packages (15.3.2)\n",
            "Requirement already satisfied: typing-extensions>=3.10.0.1 in /usr/local/lib/python3.7/dist-packages (from Faker) (4.1.1)\n",
            "Requirement already satisfied: python-dateutil>=2.4 in /usr/local/lib/python3.7/dist-packages (from Faker) (2.8.2)\n",
            "Requirement already satisfied: six>=1.5 in /usr/local/lib/python3.7/dist-packages (from python-dateutil>=2.4->Faker) (1.15.0)\n"
          ]
        }
      ],
      "source": [
        "\"\"\"\n",
        "\n",
        "Importación de librerías y módulos requeridos para la generación de datos\n",
        "Pandas es una librería utilizada para el análisis de datos\n",
        "Faker es una librería que permite generar datos sintéticos o falsos\n",
        "uuid es una librería que permite crear id's\n",
        "numpy es una librería que permite gestionar matrices multidimensionales, y utilizar funciones matematicas\n",
        "random es una librería que permite generar números aleatorios\n",
        "datetime es una librería que permite crear horas y fechas\n",
        "Factory es un módulo de la librería faker que permite crear un objeto de tipo Faker y agregar el idioma regional que se desea utilizar\n",
        "\n",
        "\"\"\"\n",
        "#Instalar librería Faker para la generación de datos sintéticos\n",
        "!pip install Faker\n",
        "import pandas as pd\n",
        "from faker import Faker\n",
        "import uuid\n",
        "import numpy as np\n",
        "import random\n",
        "import datetime\n",
        "from faker import Factory\n",
        "# Cambiar la traducción de los datos sintéticos generados con la librería Faker\n",
        "fake = Factory.create(\"es-ES\")"
      ]
    },
    {
      "cell_type": "code",
      "source": [
        "\"\"\"\n",
        "Creación de dataframes utilizando la librería pandas\n",
        "DataFrame es un método que recibe uno o más parámetros según sea necesario. \n",
        "\n",
        "Parámetros:\n",
        "--------------------------------------------------------------------------\n",
        "\n",
        "columns:\n",
        "    Columnas del dataframe a crear\n",
        "\n",
        "Retorno:\n",
        "--------------------------------------------------------------------------\n",
        "    Se retorna un archivo de tipo dataframe de dos dimensiones.\n",
        "\"\"\"\n",
        "# Crear el dataframe con 7 columnas\n",
        "df = pd.DataFrame(columns=[\n",
        "    \"id_carrera\",\n",
        "    \"nombre_carrera\",\n",
        "    \"descripcion_carrera\",\n",
        "    \"estado_carrera\",\n",
        "    \"fecha_inicio_vigencia_carrera\",\n",
        "    \"modalidad\",\n",
        "    \"jornada\"\n",
        "])"
      ],
      "metadata": {
        "id": "cnNBjQIB6GYn"
      },
      "execution_count": 74,
      "outputs": []
    },
    {
      "cell_type": "code",
      "source": [
        "\"\"\"\n",
        "UUID1 permite generar un ID único a partir de una secuencia de números y el tiempo actual.\n",
        "\n",
        "Parámetros:\n",
        "------------------------------------------------------------------------------------------\n",
        "    No se envió parámetros\n",
        "\n",
        "Retorno: \n",
        "------------------------------------------------------------------------------------------\n",
        "    Secuencia de número de 14-bits\n",
        "\"\"\"\n",
        "# Asignar a una variable la cantidad de datos a generar\n",
        "numeroDatosSinteticos = 5000\n",
        "# Generar los 5000 IDs para los datos sintéticos y guardarlos en la columna del DataFrame\n",
        "df.id_carrera = [uuid.uuid1() for i in range(numeroDatosSinteticos)]"
      ],
      "metadata": {
        "id": "4bVME_Wb6mVQ"
      },
      "execution_count": 75,
      "outputs": []
    },
    {
      "cell_type": "code",
      "source": [
        "\"\"\"\n",
        "UUID1 permite generar un ID único a partir de una secuencia de números y el tiempo actual.\n",
        "\n",
        "Parámetros:\n",
        "------------------------------------------------------------------------------------------\n",
        "    No se envió parámetros\n",
        "\n",
        "Retorno: \n",
        "------------------------------------------------------------------------------------------\n",
        "    Secuencia de número de 14-bits\n",
        "\n",
        "Job es un módulo de la librería Faker que permite generar el nombre de una profesión.\n",
        "\n",
        "Parámetros:\n",
        "------------------------------------------------------------------------------------------\n",
        "    No se envió parámetros\n",
        "\n",
        "Retorno: \n",
        "------------------------------------------------------------------------------------------\n",
        "    Cadena de caracteres que incluye el nombre de la profesión\n",
        "\n",
        "Choice es un módulo de la librería NumPy que permite seleccionar, de entre varias opciones, un valor al azar con una probabilidad determinada\n",
        "\n",
        "Parámetros:\n",
        "------------------------------------------------------------------------------------------\n",
        "    Nombre de las profesiones: \"Ingeniería\", \"Licenciatura\", \"Tecnología\"\n",
        "    Probabilidad de seleccionar un valor: p = [1/3, 1/3,1/3]\n",
        "\n",
        "Retorno: \n",
        "------------------------------------------------------------------------------------------\n",
        "    Cadena de caracteres que incluye el tipo de carrera\n",
        "\n",
        "\"\"\"\n",
        "\n",
        "# Generar los nombres de carrera\n",
        "for i in range(numeroDatosSinteticos):\n",
        "  # Generar datos sintéticos para el del nombre de la carrera, con una probabilidad de 1/3 para cada uno\n",
        "  nombre_carrera = np.random.choice([\"Ingeniería\", \"Licenciatura\", \"Tecnología\"], p=[1/3, 1/3,1/3])\n",
        "  # Crear el nombre de carrera utilizando fake.job para generar una profesión sintética\n",
        "  carrera = nombre_carrera + \" en \" + fake.job()\n",
        "  # Guardar los nombres de carrera en el DataFrame\n",
        "  df.nombre_carrera[i] = carrera"
      ],
      "metadata": {
        "id": "0PckGACV6uXW"
      },
      "execution_count": 76,
      "outputs": []
    },
    {
      "cell_type": "code",
      "source": [
        "\"\"\"\n",
        "\n",
        "Paragraph es un módulo de la librería Faker que permitegenerar párrafos con una o más oraciones sintéticas\n",
        "\n",
        "Parámetros:\n",
        "------------------------------------------------------------------------------------------\n",
        "    nb_sentences: El número de oraciones que se desea generar.\n",
        "\n",
        "Retorno: \n",
        "------------------------------------------------------------------------------------------\n",
        "    Cadena de caracteres que incluye la descripción de la carrera en formato de Lorem Ipsum\n",
        "\n",
        "\"\"\"\n",
        "# Generar las descripciones sintéticas\n",
        "for i in range(numeroDatosSinteticos):\n",
        "  # Crear un párrafo con tres oraciones\n",
        "  descripcion = fake.paragraph(nb_sentences=3)\n",
        "  #Guardar la descripción en el DataFrame\n",
        "  df.descripcion_carrera[i]=descripcion"
      ],
      "metadata": {
        "id": "K2f5qItS8rAo"
      },
      "execution_count": 77,
      "outputs": []
    },
    {
      "cell_type": "code",
      "source": [
        "\"\"\"\n",
        "\n",
        "Choice es un módulo de la librería NumPy que permite seleccionar, de entre varias opciones, un valor al azar con una probabilidad determinada\n",
        "\n",
        "Parámetros:\n",
        "------------------------------------------------------------------------------------------\n",
        "    estadoOpciones: Valores que puede tomar el estado\n",
        "\n",
        "Retorno: \n",
        "------------------------------------------------------------------------------------------\n",
        "    Cadena de caracteres que incluye el estado de la carrera\n",
        "\n",
        "\n",
        "\"\"\"\n",
        "#Crear las opciones de estado\n",
        "estadoOpciones = [\"Activo\", \"Inactivo\"]\n",
        "# Generar los estados sintéticos\n",
        "for i in range(numeroDatosSinteticos):\n",
        "  # Seleccionar de forma aleatoria uno de los estados\n",
        "  estado = random.choice(estadoOpciones)\n",
        "  # Guardar el estado en el DataFrame\n",
        "  df.estado_carrera[i]=estado"
      ],
      "metadata": {
        "id": "kgkpC1628uxf"
      },
      "execution_count": 78,
      "outputs": []
    },
    {
      "cell_type": "code",
      "source": [
        "\"\"\"\n",
        "\n",
        "Choice es un módulo de la librería NumPy que permite seleccionar, de entre varias opciones, un valor al azar con una probabilidad determinada\n",
        "\n",
        "Parámetros:\n",
        "------------------------------------------------------------------------------------------\n",
        "    modalidadOpciones: Valores que puede tomar la modalidad\n",
        "\n",
        "Retorno: \n",
        "------------------------------------------------------------------------------------------\n",
        "    Cadena de caracteres que incluye la modalidad de la carrera\n",
        "\n",
        "\n",
        "\"\"\"\n",
        "# Crear las opciones de modalidad que existen\n",
        "modalidadOpciones = [\"Presencial\", \"Distancia\", \"En linea\"]\n",
        "# Generar sintéticamente el tipo de modalidad para cada carrera\n",
        "for i in range(numeroDatosSinteticos):\n",
        "  # Elegir una modalidad al azar de entre las opciones\n",
        "  modalidad = random.choice(modalidadOpciones)\n",
        "  # Guardar el valor en el DataFrame\n",
        "  df.modalidad[i]=modalidad"
      ],
      "metadata": {
        "id": "kVJpVywWBzJM"
      },
      "execution_count": 79,
      "outputs": []
    },
    {
      "cell_type": "code",
      "source": [
        "\"\"\"\n",
        "\n",
        "Choice es un módulo de la librería NumPy que permite seleccionar, de entre varias opciones, un valor al azar con una probabilidad determinada\n",
        "\n",
        "Parámetros:\n",
        "------------------------------------------------------------------------------------------\n",
        "    jornadaOpciones: Valores que puede tomar la jornada\n",
        "\n",
        "Retorno: \n",
        "------------------------------------------------------------------------------------------\n",
        "    Cadena de caracteres que incluye la jornada de la carrera\n",
        "\n",
        "\n",
        "\"\"\"\n",
        "# Crear las opciones de jornada que existen\n",
        "jornadaOpciones = [\"Intensiva\", \"Matutina\", \"Vespertina\", \"En linea\"]\n",
        "# Generar sintéticamente el tipo de jornada para cada carrera\n",
        "for i in range(numeroDatosSinteticos):\n",
        "  # Elegir una jornada al azar de entre las opciones\n",
        "  jornada = random.choice(jornadaOpciones)\n",
        "  # Guardar el valor en el DataFrame\n",
        "  df.jornada[i]=jornada"
      ],
      "metadata": {
        "id": "Mvm4qhV-B7vK"
      },
      "execution_count": 80,
      "outputs": []
    },
    {
      "cell_type": "code",
      "source": [
        "\"\"\"\n",
        "\n",
        "date_between es un módulo de la librería Faker que permite seleccionar una fecha al azar entre un rango de fechas determinadas.\n",
        "\n",
        "Parámetros:\n",
        "------------------------------------------------------------------------------------------\n",
        "    Fecha_inicio: Fecha de inicio del rango \n",
        "    Fecha_fin: Fecha de fin del rango\n",
        "\n",
        "Retorno: \n",
        "------------------------------------------------------------------------------------------\n",
        "    Fecha de tipo datetime\n",
        "\n",
        "\"\"\"\n",
        "# Crear las fechas de inicio de vigencia de carrera que existen\n",
        "for i in range(numeroDatosSinteticos):\n",
        "  # Generar sintéticamente la fecha de vigencia de la carrera\n",
        "  fecha_inicio_vigencia_carrera = fake.date_between(datetime.date(1940, 1, 1), datetime.date(1980, 1, 1))\n",
        "  # Guardar el valor en el DataFrame\n",
        "  df.fecha_inicio_vigencia_carrera[i]=fecha_inicio_vigencia_carrera"
      ],
      "metadata": {
        "id": "tuAV_0C_846W"
      },
      "execution_count": 81,
      "outputs": []
    },
    {
      "cell_type": "code",
      "source": [
        "# Crear el CSV a partir del DataFrame\n",
        "df.to_csv('carreras.csv')"
      ],
      "metadata": {
        "id": "4W0H1QxE681j"
      },
      "execution_count": 82,
      "outputs": []
    },
    {
      "cell_type": "code",
      "source": [],
      "metadata": {
        "id": "Gk8DRayGCEco"
      },
      "execution_count": 63,
      "outputs": []
    }
  ]
}