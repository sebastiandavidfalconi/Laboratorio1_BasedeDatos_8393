{
  "nbformat": 4,
  "nbformat_minor": 0,
  "metadata": {
    "colab": {
      "provenance": []
    },
    "kernelspec": {
      "name": "python3",
      "display_name": "Python 3"
    },
    "language_info": {
      "name": "python"
    }
  },
  "cells": [
    {
      "cell_type": "code",
      "execution_count": 36,
      "metadata": {
        "colab": {
          "base_uri": "https://localhost:8080/"
        },
        "id": "MYdfgq6k-TO9",
        "outputId": "d0370559-63bf-4872-89f7-44578b011979"
      },
      "outputs": [
        {
          "output_type": "stream",
          "name": "stdout",
          "text": [
            "Looking in indexes: https://pypi.org/simple, https://us-python.pkg.dev/colab-wheels/public/simple/\n",
            "Requirement already satisfied: Faker in /usr/local/lib/python3.7/dist-packages (15.3.2)\n",
            "Requirement already satisfied: python-dateutil>=2.4 in /usr/local/lib/python3.7/dist-packages (from Faker) (2.8.2)\n",
            "Requirement already satisfied: typing-extensions>=3.10.0.1 in /usr/local/lib/python3.7/dist-packages (from Faker) (4.1.1)\n",
            "Requirement already satisfied: six>=1.5 in /usr/local/lib/python3.7/dist-packages (from python-dateutil>=2.4->Faker) (1.15.0)\n"
          ]
        }
      ],
      "source": [
        "\"\"\"\n",
        "\n",
        "Importación de librerías y módulos requeridos para la generación de datos\n",
        "Pandas es una librería utilizada para el análisis de datos\n",
        "Faker es una librería que permite generar datos sintéticos o falsos\n",
        "uuid es una librería que permite crear id's\n",
        "numpy es una librería que permite gestionar matrices multidimensionales, y utilizar funciones matematicas\n",
        "random es una librería que permite generar números aleatorios\n",
        "datetime es una librería que permite crear horas y fechas\n",
        "Factory es un módulo de la librería faker que permite crear un objeto de tipo Faker y agregar el idioma regional que se desea utilizar\n",
        "\n",
        "\"\"\"\n",
        "#Instalar librería Faker para la generación de datos sintéticos\n",
        "!pip install Faker\n",
        "import pandas as pd\n",
        "from faker import Faker\n",
        "import uuid\n",
        "import numpy as np\n",
        "import random\n",
        "import datetime\n",
        "from faker import Factory\n",
        "# Cambiar la traducción de los datos sintéticos generados con la librería Faker\n",
        "fake = Factory.create(\"es-ES\")"
      ]
    },
    {
      "cell_type": "code",
      "source": [
        "\"\"\"\n",
        "Creación de dataframes utilizando la librería pandas\n",
        "DataFrame es un método que recibe uno o más parámetros según sea necesario. \n",
        "\n",
        "Parámetros:\n",
        "--------------------------------------------------------------------------\n",
        "\n",
        "columns:\n",
        "    Columnas del dataframe a crear\n",
        "\n",
        "Retorno:\n",
        "--------------------------------------------------------------------------\n",
        "    Se retorna un archivo de tipo dataframe de dos dimensiones.\n",
        "\"\"\"\n",
        "# Crear el dataframe con 7 columnas\n",
        "df = pd.DataFrame(columns=[\n",
        "    \"id_cupo\",\n",
        "    \"fecha_aceptacion_cupo\",\n",
        "    \"hora_aceptacion_cupo\",\n",
        "    \"descripcion_cupo\",\n",
        "    \"tipo_cupo\",\n",
        "    \"estado_cupo\"\n",
        "])"
      ],
      "metadata": {
        "id": "jp0p8r2--WsT"
      },
      "execution_count": 37,
      "outputs": []
    },
    {
      "cell_type": "code",
      "source": [
        "\"\"\"\n",
        "UUID1 permite generar un ID único a partir de una secuencia de números y el tiempo actual.\n",
        "\n",
        "Parámetros:\n",
        "------------------------------------------------------------------------------------------\n",
        "    No se envió parámetros\n",
        "\n",
        "Retorno: \n",
        "------------------------------------------------------------------------------------------\n",
        "    Secuencia de número de 14-bits\n",
        "\"\"\"\n",
        "# Asignar a una variable la cantidad de datos a generar\n",
        "numeroDatosSinteticos = 5000\n",
        "# Generar los 5000 IDs para los datos sintéticos y guardarlos en la columna del DataFrame\n",
        "df.id_cupo = [uuid.uuid1() for i in range(numeroDatosSinteticos)]"
      ],
      "metadata": {
        "id": "tY4LadlDDMej"
      },
      "execution_count": 38,
      "outputs": []
    },
    {
      "cell_type": "code",
      "source": [
        "\"\"\"\n",
        "\n",
        "date_between es un módulo de la librería Faker que permite seleccionar una fecha al azar entre un rango de fechas determinadas.\n",
        "\n",
        "Parámetros:\n",
        "------------------------------------------------------------------------------------------\n",
        "    Fecha_inicio: Fecha de inicio del rango \n",
        "    Fecha_fin: Fecha de fin del rango\n",
        "\n",
        "Retorno: \n",
        "------------------------------------------------------------------------------------------\n",
        "    Fecha de tipo datetime\n",
        "\n",
        "\"\"\"\n",
        "# Ciclo for para generar las fechas sintéticas\n",
        "for i in range(numeroDatosSinteticos):\n",
        "  # Generar una fecha entre enero 01 de 2021 y enero 01 de 2023\n",
        "  fecha_cupo = fake.date_between(datetime.date(2021, 1, 1), datetime.date(2023, 1, 1))\n",
        "  # Guardar la fecha en el DataFrame\n",
        "  df.fecha_aceptacion_cupo[i]=fecha_cupo"
      ],
      "metadata": {
        "id": "eJMDDDzTDj_X"
      },
      "execution_count": 39,
      "outputs": []
    },
    {
      "cell_type": "code",
      "source": [
        "\"\"\"\n",
        "\n",
        "Choice es un módulo de la librería NumPy que permite seleccionar, de entre varias opciones, un valor al azar con una probabilidad determinada\n",
        "\n",
        "Parámetros:\n",
        "------------------------------------------------------------------------------------------\n",
        "    estadoOpciones: Valores que puede tomar el estado\n",
        "\n",
        "Retorno: \n",
        "------------------------------------------------------------------------------------------\n",
        "    Cadena de caracteres que incluye el estado del cupo\n",
        "\n",
        "\n",
        "\"\"\"\n",
        "#Crear las opciones de estado\n",
        "cupoOpciones = [\"Activo\", \"Inactivo\"]\n",
        "# Generar los estados sintéticos\n",
        "for i in range(numeroDatosSinteticos):\n",
        "  # Seleccionar de forma aleatoria uno de los estados\n",
        "  cupo = random.choice(cupoOpciones)\n",
        "  # Guardar el estado en el DataFrame\n",
        "  df.estado_cupo[i]=cupo"
      ],
      "metadata": {
        "id": "e8zth21wDUju"
      },
      "execution_count": 40,
      "outputs": []
    },
    {
      "cell_type": "code",
      "source": [
        "\"\"\"\n",
        "\n",
        "Choice es un módulo de la librería NumPy que permite seleccionar, de entre varias opciones, un valor al azar con una probabilidad determinada\n",
        "\n",
        "Parámetros:\n",
        "------------------------------------------------------------------------------------------\n",
        "    tipo_cupoOpciones: Valores que puede tomar el tipo de cupo\n",
        "\n",
        "Retorno: \n",
        "------------------------------------------------------------------------------------------\n",
        "    Cadena de caracteres que incluye el tipo de cupo\n",
        "\n",
        "\"\"\"\n",
        "#Crear las opciones de tipo de cupo\n",
        "tipo_cupoOpciones = [\"NIVELACION\", \"PRIMER NIVEL\"]\n",
        "# Ciclo for para generar los estados sintéticos\n",
        "for i in range(numeroDatosSinteticos):\n",
        "  # Seleccionar de forma aleatoria uno de los tipos de cupo\n",
        "  tipo_cupo = random.choice(tipo_cupoOpciones)\n",
        "  # Guardar el estado en el DataFrame\n",
        "  df.tipo_cupo[i]=tipo_cupo"
      ],
      "metadata": {
        "id": "mHviAevJDUdX"
      },
      "execution_count": 41,
      "outputs": []
    },
    {
      "cell_type": "code",
      "source": [
        "\"\"\"\n",
        "\n",
        "Paragraph es un módulo de la librería Faker que permite generar párrafos con una o más oraciones sintéticas\n",
        "\n",
        "Parámetros:\n",
        "------------------------------------------------------------------------------------------\n",
        "    nb_sentences: El número de oraciones que se desea generar.\n",
        "\n",
        "Retorno: \n",
        "------------------------------------------------------------------------------------------\n",
        "    Cadena de caracteres que incluye la descripción de la carrera en formato de Lorem Ipsum\n",
        "\n",
        "\"\"\"\n",
        "# Generar las descripciones sintéticas\n",
        "for i in range(numeroDatosSinteticos):\n",
        "  # Generar un párrafo con tres oraciones\n",
        "  descripcion = fake.paragraph(nb_sentences=3)\n",
        "  # Guardar el estado en el DataFrame\n",
        "  df.descripcion_cupo[i]=descripcion"
      ],
      "metadata": {
        "id": "iq1tsdQYDUTW"
      },
      "execution_count": 42,
      "outputs": []
    },
    {
      "cell_type": "code",
      "source": [
        "\"\"\"\n",
        "\n",
        "Time es un módulo de la librería Faker que permite una hora al azar\n",
        "\n",
        "Parámetros:\n",
        "------------------------------------------------------------------------------------------\n",
        "    No se enviaron parámetros\n",
        "\n",
        "Retorno: \n",
        "------------------------------------------------------------------------------------------\n",
        "    Cadena de caracteres que incluye hora generada\n",
        "\n",
        "\"\"\"\n",
        "# Generar las horas sintéticas\n",
        "for i in range(numeroDatosSinteticos):\n",
        "  # Generar una hora sintética y guardarlo en una variable\n",
        "  hora_cupo = fake.time()\n",
        "  # Guardar la variable en el DataFrame\n",
        "  df.hora_aceptacion_cupo[i]=hora_cupo"
      ],
      "metadata": {
        "id": "5q4hHQf2GarQ"
      },
      "execution_count": 43,
      "outputs": []
    },
    {
      "cell_type": "code",
      "source": [
        "# Crear el CSV a partir del DataFrame\n",
        "df.to_csv('cupos.csv')"
      ],
      "metadata": {
        "id": "HC0A2TreDMbY"
      },
      "execution_count": 45,
      "outputs": []
    },
    {
      "cell_type": "code",
      "source": [],
      "metadata": {
        "id": "3Q_7M3i3EGtO"
      },
      "execution_count": null,
      "outputs": []
    }
  ]
}