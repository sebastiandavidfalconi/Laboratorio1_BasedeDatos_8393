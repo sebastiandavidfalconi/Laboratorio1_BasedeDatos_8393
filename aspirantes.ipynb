{
  "nbformat": 4,
  "nbformat_minor": 0,
  "metadata": {
    "colab": {
      "provenance": []
    },
    "kernelspec": {
      "name": "python3",
      "display_name": "Python 3"
    },
    "language_info": {
      "name": "python"
    }
  },
  "cells": [
    {
      "cell_type": "code",
      "execution_count": 110,
      "metadata": {
        "colab": {
          "base_uri": "https://localhost:8080/"
        },
        "id": "QJrV8b_gyTBA",
        "outputId": "db328dd7-6745-43d0-b0af-fabeb7f89ab6"
      },
      "outputs": [
        {
          "output_type": "stream",
          "name": "stdout",
          "text": [
            "Looking in indexes: https://pypi.org/simple, https://us-python.pkg.dev/colab-wheels/public/simple/\n",
            "Requirement already satisfied: Faker in /usr/local/lib/python3.7/dist-packages (15.3.2)\n",
            "Requirement already satisfied: python-dateutil>=2.4 in /usr/local/lib/python3.7/dist-packages (from Faker) (2.8.2)\n",
            "Requirement already satisfied: typing-extensions>=3.10.0.1 in /usr/local/lib/python3.7/dist-packages (from Faker) (4.1.1)\n",
            "Requirement already satisfied: six>=1.5 in /usr/local/lib/python3.7/dist-packages (from python-dateutil>=2.4->Faker) (1.15.0)\n"
          ]
        }
      ],
      "source": [
        "\"\"\"\n",
        "\n",
        "Importación de librerías y módulos requeridos para la generación de datos\n",
        "Pandas es una librería utilizada para el análisis de datos\n",
        "Faker es una librería que permite generar datos sintéticos o falsos\n",
        "uuid es una librería que permite crear id's\n",
        "numpy es una librería que permite gestionar matrices multidimensionales, y utilizar funciones matematicas\n",
        "random es una librería que permite generar números aleatorios\n",
        "datetime es una librería que permite crear horas y fechas\n",
        "Factory es un módulo de la librería faker que permite crear un objeto de tipo Faker y agregar el idioma regional que se desea utilizar\n",
        "\n",
        "\"\"\"\n",
        "#Instalar librería Faker para la generación de datos sintéticos\n",
        "!pip install Faker\n",
        "import pandas as pd\n",
        "from faker import Faker\n",
        "import uuid\n",
        "import numpy as np\n",
        "import random\n",
        "import datetime\n",
        "from faker import Factory\n",
        "# Cambiar la traducción de los datos sintéticos generados con la librería Faker\n",
        "fake = Factory.create(\"es-ES\")"
      ]
    },
    {
      "cell_type": "code",
      "source": [
        "\"\"\"\n",
        "Creación de dataframes utilizando la librería pandas\n",
        "DataFrame es un método que recibe uno o más parámetros según sea necesario. \n",
        "\n",
        "Parámetros:\n",
        "--------------------------------------------------------------------------\n",
        "\n",
        "columns:\n",
        "    Columnas del dataframe a crear\n",
        "\n",
        "Retorno:\n",
        "--------------------------------------------------------------------------\n",
        "    Se retorna un archivo de tipo dataframe de dos dimensiones.\n",
        "\"\"\"\n",
        "# Crear el dataframe con 7 columnas\n",
        "df = pd.DataFrame(columns=[\n",
        "    \"id_aspirante\",\n",
        "    \"nombres_aspirante\",\n",
        "    \"apellidos_aspirante\",\n",
        "    \"correo_aspirante\",\n",
        "    \"genero\",\n",
        "    \"telefono_aspirante\",\n",
        "    \"fecha_nacimiento\",\n",
        "    \"estado_aspirante\"  \n",
        "])"
      ],
      "metadata": {
        "id": "TrepkXjAyaKq"
      },
      "execution_count": 111,
      "outputs": []
    },
    {
      "cell_type": "code",
      "source": [
        "\"\"\"\n",
        "UUID1 permite generar un ID único a partir de una secuencia de números y el tiempo actual.\n",
        "\n",
        "Parámetros:\n",
        "------------------------------------------------------------------------------------------\n",
        "    No se envió parámetros\n",
        "\n",
        "Retorno: \n",
        "------------------------------------------------------------------------------------------\n",
        "    Secuencia de número de 14-bits\n",
        "\"\"\"\n",
        "# Asignar a una variable la cantidad de datos a generar\n",
        "numeroDatosSinteticos = 5000\n",
        "# Generar los 5000 IDs para los datos sintéticos y guardarlos en la columna del DataFrame\n",
        "df.id_aspirante = [uuid.uuid1() for i in range(numeroDatosSinteticos)]"
      ],
      "metadata": {
        "id": "zSunbK91zN2q"
      },
      "execution_count": 112,
      "outputs": []
    },
    {
      "cell_type": "code",
      "source": [
        "\"\"\"\n",
        "\n",
        "first_name_male es un módulo de la librería Faker que permite  generar un primer nombre aleatorio para hombre\n",
        "\n",
        "Parámetros:\n",
        "------------------------------------------------------------------------------------------\n",
        "    No se enviaron parámetros\n",
        "\n",
        "Retorno: \n",
        "------------------------------------------------------------------------------------------\n",
        "    Cadena de caracteres que incluye el primer nombre para hombre\n",
        "    \n",
        "last_name_male es un módulo de la librería Faker que permite  generar un apellido aleatorio para hombre\n",
        "\n",
        "Parámetros:\n",
        "------------------------------------------------------------------------------------------\n",
        "    No se enviaron parámetros\n",
        "\n",
        "Retorno: \n",
        "------------------------------------------------------------------------------------------\n",
        "    Cadena de caracteres que incluye el apellido para hombre\n",
        "\n",
        "first_name_female es un módulo de la librería Faker que permite  generar un primer nombre aleatorio para mujer\n",
        "\n",
        "Parámetros:\n",
        "------------------------------------------------------------------------------------------\n",
        "    No se enviaron parámetros\n",
        "\n",
        "Retorno: \n",
        "------------------------------------------------------------------------------------------\n",
        "    Cadena de caracteres que incluye el primer nombre para mujer\n",
        "    \n",
        "last_name_female es un módulo de la librería Faker que permite  generar un apellido aleatorio para mujer\n",
        "\n",
        "Parámetros:\n",
        "------------------------------------------------------------------------------------------\n",
        "    No se enviaron parámetros\n",
        "\n",
        "Retorno: \n",
        "------------------------------------------------------------------------------------------\n",
        "    Cadena de caracteres que incluye el apellido para mujer\n",
        "\n",
        "lower es un módulo de la librería estandar de Python que permite convertir un texto completo a letras minúsculas\n",
        "\n",
        "Parámetros:\n",
        "------------------------------------------------------------------------------------------\n",
        "    No se enviaron parámetros\n",
        "\n",
        "Retorno: \n",
        "------------------------------------------------------------------------------------------\n",
        "    Cadena de caracteres con todas las letras en minúsculas\n",
        "\"\"\"\n",
        "# Crear una variable e inicializarla\n",
        "sexo = \"\"\n",
        "# Generar los nombres y apellidos, y el email aleatorio, así como el género del aspirante\n",
        "for i in range(numeroDatosSinteticos):\n",
        "  # Seleccionar de forma aleatoria un valor entre M para Male o hombre, y F para Female o mujer\n",
        "  sexo = np.random.choice([\"M\", \"F\"], p=[0.5, 0.5])\n",
        "  # Convertir el género del aspirante a tipo string\n",
        "  df.genero[i] = str(sexo)\n",
        "  # Generar nombres y apellidos en base al género del aspirante, en este caso para hombre\n",
        "  if sexo == \"M\":\n",
        "    # Generar el primer nombre y guardarlo en una variable\n",
        "    primer_nombre = fake.first_name_male()\n",
        "    # Generar el segundo nombre y guardarlo en una variable\n",
        "    segundo_nombre = fake.first_name_male()\n",
        "    # Generar el primer apellido y guardarlo en una variable\n",
        "    primer_apellido = fake.last_name_male()\n",
        "    # Generar el segundo apellido y guardarlo en una variable\n",
        "    segundo_apellido = fake.last_name_male()\n",
        "  # Generar nombres y apellidos en base al género del aspirante, en este caso para mujer\n",
        "  elif sexo == \"F\":\n",
        "    # Generar el primer nombre y guardarlo en una variable\n",
        "    primer_nombre = fake.first_name_female()\n",
        "    # Generar el segundo nombre y guardarlo en una variable\n",
        "    segundo_nombre = fake.first_name_female()\n",
        "    # Generar el primer apellido y guardarlo en una variable\n",
        "    primer_apellido = fake.last_name_female()\n",
        "    # Generar el segundo apellido y guardarlo en una variable\n",
        "    segundo_apellido = fake.last_name_female()\n",
        "  # Generar un correo electronico a partir del primer nombre y del primer apellido\n",
        "  email = f\"{primer_nombre}.{primer_apellido}@hotmail.com\"\n",
        "  # Concatenar el primer nombre y el segundo nombre para guardarlo en una variable llamado nombres\n",
        "  df.nombres_aspirante[i] = primer_nombre + ' ' + segundo_nombre\n",
        "  # Concatenar el primer apellido y el segundo apellido para guardarlo en una variable llamado nombres\n",
        "  df.apellidos_aspirante[i] = primer_apellido + ' ' + segundo_apellido\n",
        "  # Transformar el correo electronico a minúsculas\n",
        "  df.correo_aspirante[i] = email.lower()\n",
        "  "
      ],
      "metadata": {
        "id": "QyPFxyg61CBU"
      },
      "execution_count": 113,
      "outputs": []
    },
    {
      "cell_type": "code",
      "source": [
        "\"\"\"\n",
        "\n",
        "randint es un módulo de la librería random que permite  generar un valor aleatorio numérico de tipo entero\n",
        "\n",
        "Parámetros:\n",
        "------------------------------------------------------------------------------------------\n",
        "    valorInicial: El valor inicial del rango\n",
        "    valorFinal: El valor final del rango\n",
        "\n",
        "Retorno: \n",
        "------------------------------------------------------------------------------------------\n",
        "    Un número entero aleatorio\n",
        "\n",
        "\"\"\"\n",
        "# Generar los números de teléfono aleatorios\n",
        "for i in range(numeroDatosSinteticos):\n",
        "  # Colocar los dos primeros números que son comúnes en Ecuador\n",
        "  telefono = '09'\n",
        "  # Generar los números restantes seguidos del 09 que puede ser cualquier dígito entre 0 y 9\n",
        "  for _ in range(2, 10):\n",
        "    # Generar un dígito aleatorio entre 0 y 9 y concatenarlo con los dígitos anteriores\n",
        "    telefono = telefono + str(random.randint(0, 9))\n",
        "  # Guardar los valores del telefono en el DataFrame\n",
        "  df.telefono_aspirante[i]=telefono"
      ],
      "metadata": {
        "id": "Hbj2_6Jl4d1j"
      },
      "execution_count": 114,
      "outputs": []
    },
    {
      "cell_type": "code",
      "source": [
        "\"\"\"\n",
        "\n",
        "date_between es un módulo de la librería Faker que permite seleccionar una fecha al azar entre un rango de fechas determinadas.\n",
        "\n",
        "Parámetros:\n",
        "------------------------------------------------------------------------------------------\n",
        "    Fecha_inicio: Fecha de inicio del rango \n",
        "    Fecha_fin: Fecha de fin del rango\n",
        "\n",
        "Retorno: \n",
        "------------------------------------------------------------------------------------------\n",
        "    Fecha de tipo datetime\n",
        "\n",
        "\"\"\"\n",
        "# Ciclo for para generar las fechas sintéticas\n",
        "for i in range(numeroDatosSinteticos):\n",
        "  # Generar una fecha entre enero 01 de 1980 y enero 01 de 2007\n",
        "  fecha_nacimiento = fake.date_between(datetime.date(1980, 1, 1), datetime.date(2007, 1, 1))\n",
        "  # Guardar la fecha en el DataFrame\n",
        "  df.fecha_nacimiento[i]=fecha_nacimiento"
      ],
      "metadata": {
        "id": "WX2k193u42xB"
      },
      "execution_count": 115,
      "outputs": []
    },
    {
      "cell_type": "code",
      "source": [
        "\"\"\"\n",
        "\n",
        "Choice es un módulo de la librería NumPy que permite seleccionar, de entre varias opciones, un valor al azar con una probabilidad determinada\n",
        "\n",
        "Parámetros:\n",
        "------------------------------------------------------------------------------------------\n",
        "    estadoOpciones: Valores que puede tomar el estado\n",
        "\n",
        "Retorno: \n",
        "------------------------------------------------------------------------------------------\n",
        "    Cadena de caracteres que incluye el estado del aspirante\n",
        "\n",
        "\n",
        "\"\"\"\n",
        "#Crear las opciones de estado\n",
        "estadoOpciones = [\"Activo\", \"Inactivo\"]\n",
        "# Generar los estados sintéticos\n",
        "for i in range(numeroDatosSinteticos):\n",
        "  # Seleccionar de forma aleatoria uno de los estados\n",
        "  estado = random.choice(estadoOpciones)\n",
        "  # Guardar el estado en el DataFrame\n",
        "  df.estado_aspirante[i]=estado"
      ],
      "metadata": {
        "id": "rMQcVkhY5ZcI"
      },
      "execution_count": 116,
      "outputs": []
    },
    {
      "cell_type": "code",
      "source": [
        "# Crear el CSV a partir del DataFrame\n",
        "df.to_csv('aspirantes.csv')"
      ],
      "metadata": {
        "id": "3rvm-kfg2QDZ"
      },
      "execution_count": 117,
      "outputs": []
    },
    {
      "cell_type": "code",
      "source": [],
      "metadata": {
        "id": "zNQeBLv0kSVy"
      },
      "execution_count": 117,
      "outputs": []
    }
  ]
}